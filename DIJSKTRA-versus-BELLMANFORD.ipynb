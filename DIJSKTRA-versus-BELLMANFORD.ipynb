{
 "cells": [
  {
   "cell_type": "code",
   "execution_count": 9,
   "metadata": {},
   "outputs": [],
   "source": [
    "adjacency_mat = [\n",
    " [0,1,1,1,0,1,0,0,0,0,0,0,0,1,1,0,0,0,0,0,1,0,1,0,0],\n",
    " [0,0,0,0,1,0,1,0,0,0,0,0,0,0,0,0,0,0,0,0,0,0,0,1,0],\n",
    " [0,0,0,0,1,0,0,0,1,0,1,0,0,0,0,0,0,0,0,0,0,1,1,0,0],\n",
    " [0,0,0,0,0,0,0,0,1,1,1,0,0,1,0,0,0,0,0,0,0,0,0,0,0],\n",
    " [0,0,0,0,0,0,0,0,0,0,0,0,1,0,0,1,0,1,0,0,0,0,0,0,0],\n",
    " [0,0,1,0,0,0,0,0,0,0,0,0,0,0,0,0,0,0,0,0,1,0,0,0,1],\n",
    " [0,0,0,1,1,1,0,0,0,1,0,0,0,0,0,0,0,0,1,0,0,0,0,0,0],\n",
    " [0,0,0,0,0,0,1,0,1,0,0,0,1,0,1,0,0,0,1,0,0,1,0,0,0],\n",
    " [0,0,0,0,0,1,0,0,0,0,1,0,0,0,1,0,1,0,0,0,0,0,0,0,0],\n",
    " [0,0,0,0,1,0,0,0,0,0,1,0,1,0,1,0,0,0,0,0,0,0,0,1,0],\n",
    " [0,0,0,0,1,0,0,0,0,0,0,0,0,0,0,0,0,0,0,1,1,1,0,0,0],\n",
    " [0,0,0,0,0,0,0,0,0,0,0,0,0,0,0,0,0,0,0,0,0,0,0,0,0],\n",
    " [0,0,0,1,0,0,0,1,0,0,0,1,0,0,0,0,0,1,1,1,0,0,0,0,1],\n",
    " [1,0,0,1,0,0,0,1,0,0,0,0,0,0,0,0,1,0,0,0,0,0,0,0,0],\n",
    " [0,0,0,0,0,0,0,0,0,0,0,0,0,0,0,0,0,1,0,0,0,0,0,0,1],\n",
    " [0,0,0,0,0,0,0,0,0,0,0,0,0,0,0,0,0,0,0,0,0,0,0,0,0],\n",
    " [0,0,0,1,0,0,0,0,1,1,0,0,1,0,0,0,0,0,0,0,0,0,0,0,0],\n",
    " [0,0,1,0,0,0,0,0,0,0,0,0,0,0,1,0,0,0,0,0,0,0,0,0,0],\n",
    " [0,0,0,0,0,0,0,0,0,0,0,0,0,0,1,0,0,0,0,0,0,0,1,0,0],\n",
    " [0,0,1,0,0,0,0,1,0,0,0,1,1,0,0,0,0,1,0,0,0,1,0,0,0],\n",
    " [0,0,0,0,1,0,0,0,1,0,0,0,0,0,0,0,0,0,0,0,0,1,0,0,0],\n",
    " [0,0,0,1,0,1,1,0,1,1,1,0,0,1,1,1,0,0,0,1,0,0,0,1,0],\n",
    " [0,0,0,1,0,1,0,1,0,0,1,0,0,0,0,0,0,0,0,0,0,0,0,0,1],\n",
    " [0,0,0,0,0,0,0,0,0,0,0,0,0,0,0,0,0,0,0,0,1,0,1,0,0],\n",
    " [0,0,0,1,0,0,1,1,0,0,0,1,0,1,0,1,1,0,0,0,1,0,1,0,0]]"
   ]
  },
  {
   "cell_type": "code",
   "execution_count": 10,
   "metadata": {},
   "outputs": [],
   "source": [
    "def dijkstra(start, vertex_count, weights):\n",
    "    V = vertex_count\n",
    "    distances = [9999999999999] * V\n",
    "    distances[start] = 0\n",
    "    visitedSet = [False] * vertex_count\n",
    "    \n",
    "    for vertex in range(V):\n",
    "        min = 9999999999999\n",
    "        for v in range(V):\n",
    "            if (distances[v] < min and visitedSet[v] == False):\n",
    "                min = distances[v]\n",
    "                min_index = v\n",
    "        u = min_index\n",
    "        visitedSet[u] = True\n",
    "        \n",
    "        for v in range(V):\n",
    "            if(weights[u][v] > 0 and visitedSet[v] == False and\n",
    "              distances[v] > distances[u] + weights[u][v]):\n",
    "                distances[v] = distances[u] + weights[u][v]\n",
    "    \n",
    "    print(\"Vertex Distance from Source\")\n",
    "    for node in range(V):\n",
    "        print(node, \"t\", distances[node])\n",
    "    \n",
    "    "
   ]
  },
  {
   "cell_type": "code",
   "execution_count": 14,
   "metadata": {},
   "outputs": [],
   "source": [
    "def BellmanFord(start, vertex_count, weights):\n",
    "    distances = [999999999] * vertex_count\n",
    "    distances[start] = 0\n",
    "    \n",
    "    for i in range(1, vertex_count-1):\n",
    "        for ii in range(vertex_count):\n",
    "            for jj in range(vertex_count):\n",
    "                if (weights[ii][jj] != 0):\n",
    "                    if distances[jj] > distances[ii] + weights[ii][jj]:\n",
    "                        distances[jj] = distances[ii] + weights[ii][jj]\n",
    "    \n",
    "    print(\"Vertex Distance from Source\")\n",
    "    for node in range(vertex_count):\n",
    "        print(node, \"\\t\", distances[node])"
   ]
  },
  {
   "cell_type": "code",
   "execution_count": 13,
   "metadata": {},
   "outputs": [
    {
     "name": "stdout",
     "output_type": "stream",
     "text": [
      "Vertex Distance from Source\n",
      "0 t 0\n",
      "1 t 1\n",
      "2 t 1\n",
      "3 t 1\n",
      "4 t 2\n",
      "5 t 1\n",
      "6 t 2\n",
      "7 t 2\n",
      "8 t 2\n",
      "9 t 2\n",
      "10 t 2\n",
      "11 t 3\n",
      "12 t 3\n",
      "13 t 1\n",
      "14 t 1\n",
      "15 t 3\n",
      "16 t 2\n",
      "17 t 2\n",
      "18 t 3\n",
      "19 t 3\n",
      "20 t 1\n",
      "21 t 2\n",
      "22 t 1\n",
      "23 t 2\n",
      "24 t 2\n",
      "\n",
      "\n",
      "0.002115964889526367\n"
     ]
    }
   ],
   "source": [
    "import time\n",
    "start = time.time()\n",
    "dijkstra(0, 25, adjacency_mat)\n",
    "end = time.time()\n",
    "print('\\n')\n",
    "print(end-start)"
   ]
  },
  {
   "cell_type": "code",
   "execution_count": 15,
   "metadata": {},
   "outputs": [
    {
     "name": "stdout",
     "output_type": "stream",
     "text": [
      "Vertex Distance from Source\n",
      "0 \t 0\n",
      "1 \t 1\n",
      "2 \t 1\n",
      "3 \t 1\n",
      "4 \t 2\n",
      "5 \t 1\n",
      "6 \t 2\n",
      "7 \t 2\n",
      "8 \t 2\n",
      "9 \t 2\n",
      "10 \t 2\n",
      "11 \t 3\n",
      "12 \t 3\n",
      "13 \t 1\n",
      "14 \t 1\n",
      "15 \t 3\n",
      "16 \t 2\n",
      "17 \t 2\n",
      "18 \t 3\n",
      "19 \t 3\n",
      "20 \t 1\n",
      "21 \t 2\n",
      "22 \t 1\n",
      "23 \t 2\n",
      "24 \t 2\n",
      "\n",
      "\n",
      "0.0040378570556640625\n"
     ]
    }
   ],
   "source": [
    "import time\n",
    "start = time.time()\n",
    "BellmanFord(0, 25, adjacency_mat)\n",
    "end = time.time()\n",
    "print('\\n')\n",
    "print(end-start)"
   ]
  },
  {
   "cell_type": "code",
   "execution_count": null,
   "metadata": {},
   "outputs": [],
   "source": []
  }
 ],
 "metadata": {
  "kernelspec": {
   "display_name": "Python 3",
   "language": "python",
   "name": "python3"
  },
  "language_info": {
   "codemirror_mode": {
    "name": "ipython",
    "version": 3
   },
   "file_extension": ".py",
   "mimetype": "text/x-python",
   "name": "python",
   "nbconvert_exporter": "python",
   "pygments_lexer": "ipython3",
   "version": "3.6.4"
  }
 },
 "nbformat": 4,
 "nbformat_minor": 2
}
